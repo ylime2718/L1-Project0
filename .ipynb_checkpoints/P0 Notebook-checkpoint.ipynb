{
 "cells": [
  {
   "cell_type": "code",
   "execution_count": null,
   "metadata": {},
   "outputs": [],
   "source": [
    "# Welcome to your first project! This is a Jupyter \n",
    "# Notebook, where you will write and run code.\n",
    "# To write some code, type inside each box just like \n",
    "# you would in a word document.\n",
    "\n",
    "# TO DO: When you're ready to run the code, click \n",
    "# anywhere inside the box and hit SHIFT + ENTER.\n",
    "\n",
    "print(\"Hello World!\")"
   ]
  },
  {
   "cell_type": "code",
   "execution_count": 4,
   "metadata": {},
   "outputs": [],
   "source": [
    "# TO DO: Try changing the text inside the quotes \n",
    "# above to print your own custom message. Run the\n",
    "# code again when you're ready!"
   ]
  },
  {
   "cell_type": "code",
   "execution_count": 5,
   "metadata": {},
   "outputs": [],
   "source": [
    "# DO NOT MODIFY\n",
    "import turtle\n",
    "s = turtle.getscreen()\n",
    "t = turtle.Turtle()\n",
    "t.shape(\"turtle\")\n",
    "\n",
    "\n",
    "# TO DO: Run this code by hitting SHIFT + ENTER\n",
    "# You should see a pop-up with a turtle in it :)"
   ]
  },
  {
   "cell_type": "code",
   "execution_count": 7,
   "metadata": {},
   "outputs": [],
   "source": [
    "# Move the Turtle\n",
    "\n",
    "# You can draw almost anything with your turtle! You can have it\n",
    "# crawl forward/back, turn, draw shapes, and more.\n",
    "\n",
    "# TO DO: Run the code below to see what it does.\n",
    "\n",
    "t.left(90)       # .left() and .right() need degrees in the ()\n",
    "t.forward(50)    # .forward() needs number of pixels in the ()\n",
    "t.left(180)\n",
    "t.forward(100)\n",
    "t.left(180)\n",
    "t.forward(50)\n",
    "t.right(90)\n",
    "t.forward(100)\n",
    "t.left(90)\n",
    "t.forward(50)\n",
    "t.left(180)\n",
    "t.forward(100)\n",
    "t.left(90)\n",
    "t.penup()         # .penup() makes the turtle stop drawing\n",
    "t.forward(75)\n",
    "t.pendown()       # .pendown() makes it start again\n",
    "t.left(90)\n",
    "t.forward(100)"
   ]
  },
  {
   "cell_type": "code",
   "execution_count": 9,
   "metadata": {},
   "outputs": [],
   "source": [
    "# TO DO: Run this code to clear the screen and put the turtle\n",
    "# back at the center.\n",
    "t.home()\n",
    "t.clear()"
   ]
  },
  {
   "cell_type": "code",
   "execution_count": 1,
   "metadata": {},
   "outputs": [],
   "source": [
    "# TO DO: Try drawing or writing something of your own! When \n",
    "# you're ready to run it, go ahead! If you get an error or it\n",
    "# doesn't do what you wanted, just edit the code and run it \n",
    "# again.\n",
    "\n",
    "# TIP: Start with t.home() and t.clear() so you always start\n",
    "# your drawing fresh.\n",
    "\n"
   ]
  },
  {
   "cell_type": "code",
   "execution_count": null,
   "metadata": {},
   "outputs": [],
   "source": [
    "# TO DO: When you're done with your drawing, close the pop-up,\n",
    "# click save on this project, and close the Notebook."
   ]
  }
 ],
 "metadata": {
  "kernelspec": {
   "display_name": "Python 3",
   "language": "python",
   "name": "python3"
  },
  "language_info": {
   "codemirror_mode": {
    "name": "ipython",
    "version": 3
   },
   "file_extension": ".py",
   "mimetype": "text/x-python",
   "name": "python",
   "nbconvert_exporter": "python",
   "pygments_lexer": "ipython3",
   "version": "3.7.7"
  }
 },
 "nbformat": 4,
 "nbformat_minor": 4
}
